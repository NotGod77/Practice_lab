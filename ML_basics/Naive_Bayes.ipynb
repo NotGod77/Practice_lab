{
  "nbformat": 4,
  "nbformat_minor": 0,
  "metadata": {
    "colab": {
      "provenance": [],
      "authorship_tag": "ABX9TyMQRH78YF4RvgRtNfT2xVSU"
    },
    "kernelspec": {
      "name": "python3",
      "display_name": "Python 3"
    },
    "language_info": {
      "name": "python"
    }
  },
  "cells": [
    {
      "cell_type": "code",
      "execution_count": 2,
      "metadata": {
        "colab": {
          "base_uri": "https://localhost:8080/",
          "height": 35
        },
        "id": "XDnqt6ypcmEV",
        "outputId": "7fbc0856-5464-4a8a-9ca9-e5cb608a9c5e"
      },
      "outputs": [
        {
          "output_type": "execute_result",
          "data": {
            "text/plain": [
              "'\\nfrom sklearn.naive_bayes import GaussianNB\\n'"
            ],
            "application/vnd.google.colaboratory.intrinsic+json": {
              "type": "string"
            }
          },
          "metadata": {},
          "execution_count": 2
        }
      ],
      "source": [
        "#Uses the Bayes theorem to calculate the probability of a combination of features belong to some class.\n",
        "# It is called NAIVE bayes because it considers the features to be independent of each other, that there is no correlation between them\n",
        "# rest is simple, just split,train,test the score, the following import has to be done\n",
        "\n",
        "# there are several classes of the NaiveBayes classifier, I'll go in depth later\n",
        "'''\n",
        "from sklearn.naive_bayes import GaussianNB\n",
        "'''"
      ]
    }
  ]
}