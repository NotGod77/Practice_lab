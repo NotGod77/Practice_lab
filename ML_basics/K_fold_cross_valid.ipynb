{
  "nbformat": 4,
  "nbformat_minor": 0,
  "metadata": {
    "colab": {
      "provenance": [],
      "toc_visible": true
    },
    "kernelspec": {
      "name": "python3",
      "display_name": "Python 3"
    },
    "language_info": {
      "name": "python"
    }
  },
  "cells": [
    {
      "cell_type": "markdown",
      "source": [
        "## Initial imports and training"
      ],
      "metadata": {
        "id": "h7cO0U-vMHZO"
      }
    },
    {
      "cell_type": "code",
      "execution_count": 18,
      "metadata": {
        "id": "Y8HJlPcnrPH5"
      },
      "outputs": [],
      "source": [
        "import pandas as pd\n",
        "from sklearn.linear_model import LogisticRegression\n",
        "from sklearn.svm import SVC\n",
        "from sklearn.ensemble import RandomForestClassifier\n",
        "from sklearn.datasets import load_digits\n",
        "from sklearn.model_selection import train_test_split"
      ]
    },
    {
      "cell_type": "code",
      "source": [
        "digits = load_digits()\n",
        "dir(digits)"
      ],
      "metadata": {
        "colab": {
          "base_uri": "https://localhost:8080/"
        },
        "id": "ZaFXfzNiG9AT",
        "outputId": "f1bafdfa-00c2-4457-ff21-d0cfaaa58c23"
      },
      "execution_count": 19,
      "outputs": [
        {
          "output_type": "execute_result",
          "data": {
            "text/plain": [
              "['DESCR', 'data', 'feature_names', 'frame', 'images', 'target', 'target_names']"
            ]
          },
          "metadata": {},
          "execution_count": 19
        }
      ]
    },
    {
      "cell_type": "code",
      "source": [
        "digits.data.shape"
      ],
      "metadata": {
        "colab": {
          "base_uri": "https://localhost:8080/"
        },
        "id": "6mLdYX2HHwIw",
        "outputId": "7e9bd072-0888-40ff-e6b6-482afc56aec5"
      },
      "execution_count": 20,
      "outputs": [
        {
          "output_type": "execute_result",
          "data": {
            "text/plain": [
              "(1797, 64)"
            ]
          },
          "metadata": {},
          "execution_count": 20
        }
      ]
    },
    {
      "cell_type": "code",
      "source": [
        "X= digits.data\n",
        "y=digits.target\n",
        "\n",
        "X_train,X_test,y_train,y_test = train_test_split(X,y,test_size=0.3)\n",
        "lr = LogisticRegression(max_iter=200)\n",
        "svm = SVC()\n",
        "rf = RandomForestClassifier()\n",
        "\n",
        "lr.fit(X_train,y_train)\n",
        "svm.fit(X_train,y_train)\n",
        "rf.fit(X_train,y_train)\n",
        "\n",
        "print(lr.score(X_test,y_test))\n",
        "print(svm.score(X_test,y_test))\n",
        "print(rf.score(X_test,y_test))"
      ],
      "metadata": {
        "colab": {
          "base_uri": "https://localhost:8080/"
        },
        "id": "9iirvDJlHbOZ",
        "outputId": "fd717ef0-4434-4ae6-894b-5e0a5860c71f"
      },
      "execution_count": 29,
      "outputs": [
        {
          "output_type": "stream",
          "name": "stdout",
          "text": [
            "0.9722222222222222\n",
            "0.9888888888888889\n",
            "0.9833333333333333\n"
          ]
        }
      ]
    },
    {
      "cell_type": "code",
      "source": [
        "#As the scores keep changing with the train_test_split function, we can use K-fold cross validation.\n",
        "# it trains the model on divided collection of data n number of times, each time using one divison as test and others as training data.\n",
        "# this way, we get a fairer model score, each time, then we can simply average it and find which model is better"
      ],
      "metadata": {
        "id": "GblN1xDYIkFC"
      },
      "execution_count": 22,
      "outputs": []
    },
    {
      "cell_type": "markdown",
      "source": [
        "##Manual implementation"
      ],
      "metadata": {
        "id": "aoFvY81AMAXf"
      }
    },
    {
      "cell_type": "code",
      "source": [
        "#sample data implementation\n",
        "from sklearn.model_selection import KFold\n",
        "kf= KFold(n_splits=3)\n",
        "\n",
        "for i,j in kf.split([1,2,3,4,5,6,7,8,9]): #here, kf.split returns one by one, a pair of training and testing data, in form of two lists\n",
        "  print(i,j)                              # i is the training split, and j is the testing split.\n",
        "                                          # remember 1st is train, 2nd is test\n",
        "\n",
        "#REMEMBER, this loop returns the indexes, divided into folds and training and testing.\n"
      ],
      "metadata": {
        "colab": {
          "base_uri": "https://localhost:8080/"
        },
        "id": "Mpwjr2JKMFzt",
        "outputId": "fe2e2923-42d7-424d-d41e-03b729055950"
      },
      "execution_count": 23,
      "outputs": [
        {
          "output_type": "stream",
          "name": "stdout",
          "text": [
            "[3 4 5 6 7 8] [0 1 2]\n",
            "[0 1 2 6 7 8] [3 4 5]\n",
            "[0 1 2 3 4 5] [6 7 8]\n"
          ]
        }
      ]
    },
    {
      "cell_type": "markdown",
      "source": [
        "### StratifiedKFold"
      ],
      "metadata": {
        "id": "-R8lbxrVVBiQ"
      }
    },
    {
      "cell_type": "code",
      "source": [
        "# get_score method to calculate scores\n",
        "def get_score(model, xtrain,xtest,ytrain,ytest):\n",
        "  model.fit(xtrain,ytrain)\n",
        "  return model.score(xtest,ytest)"
      ],
      "metadata": {
        "id": "FJoGZ0wAQ97k"
      },
      "execution_count": 24,
      "outputs": []
    },
    {
      "cell_type": "code",
      "source": [
        "#For our digits dataset we will use stratified kfold method, this keeps the classes in the folds also uniform.\n",
        "lr_arr = []\n",
        "svm_arr = []\n",
        "rf_arr = []\n",
        "\n",
        "from sklearn.model_selection import StratifiedKFold\n",
        "kff = StratifiedKFold(n_splits = 5)\n",
        "\n",
        "for i,j in kff.split(digits.data,digits.target):\n",
        "  X_train,X_test,y_train,y_test = digits.data[i],digits.data[j],digits.target[i],digits.target[j] #we just need the divided indexes, then we can feed into the\n",
        "                                                                                                  # rows, to get our correspnding data\n",
        "  lr_arr.append(get_score(lr,X_train,X_test,y_train,y_test))\n",
        "  svm_arr.append(get_score(svm,X_train,X_test,y_train,y_test))\n",
        "  rf_arr.append(get_score(rf,X_train,X_test,y_train,y_test))\n",
        "\n",
        "print(lr_arr)\n",
        "print(svm_arr)\n",
        "print(rf_arr)"
      ],
      "metadata": {
        "colab": {
          "base_uri": "https://localhost:8080/"
        },
        "id": "KqQLtflFPLgV",
        "outputId": "ef84f20c-671d-408f-dfc7-85aecbd94990"
      },
      "execution_count": 30,
      "outputs": [
        {
          "output_type": "stream",
          "name": "stdout",
          "text": [
            "[0.9222222222222223, 0.8722222222222222, 0.9415041782729805, 0.9415041782729805, 0.8969359331476323]\n",
            "[0.9611111111111111, 0.9444444444444444, 0.9832869080779945, 0.9888579387186629, 0.9387186629526463]\n",
            "[0.9388888888888889, 0.9166666666666666, 0.9693593314763231, 0.9665738161559888, 0.9331476323119777]\n"
          ]
        }
      ]
    },
    {
      "cell_type": "markdown",
      "source": [
        "### cross_val_score method for everything"
      ],
      "metadata": {
        "id": "n1wj9mcdVH0h"
      }
    },
    {
      "cell_type": "code",
      "source": [
        "#Below method does all our fold creation, fitting, and score_calculation, storing in array, printing IN ONE GO\n",
        "from sklearn.model_selection import cross_val_score\n",
        "cross_val_score(lr,digits.data,digits.target)"
      ],
      "metadata": {
        "colab": {
          "base_uri": "https://localhost:8080/"
        },
        "id": "aCfhsePySCSz",
        "outputId": "3f51b8ea-cedd-48b5-f7a6-52fb42f47ba7"
      },
      "execution_count": 32,
      "outputs": [
        {
          "output_type": "execute_result",
          "data": {
            "text/plain": [
              "array([0.92222222, 0.87222222, 0.94150418, 0.94150418, 0.89693593])"
            ]
          },
          "metadata": {},
          "execution_count": 32
        }
      ]
    },
    {
      "cell_type": "code",
      "source": [
        "cross_val_score(svm,digits.data,digits.target)"
      ],
      "metadata": {
        "colab": {
          "base_uri": "https://localhost:8080/"
        },
        "id": "2oJEgr5dUEpD",
        "outputId": "54825149-fbdf-4408-f2a0-0037f7547518"
      },
      "execution_count": 33,
      "outputs": [
        {
          "output_type": "execute_result",
          "data": {
            "text/plain": [
              "array([0.96111111, 0.94444444, 0.98328691, 0.98885794, 0.93871866])"
            ]
          },
          "metadata": {},
          "execution_count": 33
        }
      ]
    },
    {
      "cell_type": "code",
      "source": [
        "cross_val_score(rf,digits.data,digits.target)"
      ],
      "metadata": {
        "colab": {
          "base_uri": "https://localhost:8080/"
        },
        "id": "Xqp0vPh6Ui9U",
        "outputId": "da7320a4-bd92-4199-ac19-739425701109"
      },
      "execution_count": 34,
      "outputs": [
        {
          "output_type": "execute_result",
          "data": {
            "text/plain": [
              "array([0.93333333, 0.92222222, 0.96100279, 0.9637883 , 0.93036212])"
            ]
          },
          "metadata": {},
          "execution_count": 34
        }
      ]
    }
  ]
}