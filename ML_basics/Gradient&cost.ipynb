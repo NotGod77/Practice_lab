{
  "nbformat": 4,
  "nbformat_minor": 0,
  "metadata": {
    "colab": {
      "provenance": []
    },
    "kernelspec": {
      "name": "python3",
      "display_name": "Python 3"
    },
    "language_info": {
      "name": "python"
    }
  },
  "cells": [
    {
      "cell_type": "markdown",
      "source": [
        "#Gradient Descent implementation"
      ],
      "metadata": {
        "id": "YxIfeQmP-q7O"
      }
    },
    {
      "cell_type": "markdown",
      "source": [
        "for a given dataset, we need to find the values of the slope and intercept of the best fit line, we will find this today in the below implementation using gradient descent.\n"
      ],
      "metadata": {
        "id": "xvtht_gl-3p9"
      }
    },
    {
      "cell_type": "code",
      "source": [
        "import numpy as np"
      ],
      "metadata": {
        "id": "ANRHuGmbDEwn"
      },
      "execution_count": 2,
      "outputs": []
    },
    {
      "cell_type": "code",
      "source": [
        "x = np.array([1,2,3,4,5])\n",
        "y = np.array([2,4,6,8,10])"
      ],
      "metadata": {
        "id": "YPXFiQugC0w4"
      },
      "execution_count": 3,
      "outputs": []
    },
    {
      "cell_type": "code",
      "source": [
        "def gradient_descent(x,y):\n",
        "    m_curr = b_curr = 0\n",
        "    iterations = 4000\n",
        "    learning_rate = 0.01\n",
        "    n = len(x)\n",
        "    costs = []\n",
        "\n",
        "    for i in range(iterations):\n",
        "\n",
        "      y_pred = m_curr*x + b_curr\n",
        "      md = -(2/n)*sum(x*(y-y_pred))\n",
        "      bd = -(2/n)*sum((y-y_pred))\n",
        "\n",
        "      m_curr = m_curr - learning_rate*md\n",
        "      b_curr = b_curr - learning_rate*bd\n",
        "\n",
        "      aisehi = y-y_pred\n",
        "      cost = (1/n)*sum(aisehi**2)\n",
        "\n",
        "      costs.append(cost)\n",
        "\n",
        "      print(\"m {}, b {}, cost {}, iteration {}\".format(m_curr,b_curr,cost,i))\n",
        "\n",
        "    return m_curr,b_curr,costs\n",
        "\n"
      ],
      "metadata": {
        "id": "KKOwYF-v-qcr"
      },
      "execution_count": 89,
      "outputs": []
    },
    {
      "cell_type": "code",
      "execution_count": null,
      "metadata": {
        "id": "wGG5fzaoiFVu",
        "collapsed": true
      },
      "outputs": [],
      "source": [
        "m,b,cost = gradient_descent(x,y)\n",
        "import matplotlib.pyplot as plt\n",
        "plt.plot(cost)\n",
        "plt.xlabel(\"Iterations\")\n",
        "plt.ylabel(\"Cost\")\n",
        "plt.title(\"Cost over Time\")\n",
        "plt.grid(True)\n",
        "plt.show()\n"
      ]
    },
    {
      "cell_type": "code",
      "source": [
        "6*m + b"
      ],
      "metadata": {
        "colab": {
          "base_uri": "https://localhost:8080/"
        },
        "id": "MCJyYBm2Fu9P",
        "outputId": "ea2207e6-01ba-4c8e-f7d0-57576c76cf15"
      },
      "execution_count": 91,
      "outputs": [
        {
          "output_type": "execute_result",
          "data": {
            "text/plain": [
              "np.float64(11.999999554453815)"
            ]
          },
          "metadata": {},
          "execution_count": 91
        }
      ]
    },
    {
      "cell_type": "markdown",
      "source": [
        "#comparison with sklearn's linear regression"
      ],
      "metadata": {
        "id": "BQvJ6kLpMfCa"
      }
    },
    {
      "cell_type": "code",
      "source": [
        "from sklearn.linear_model import LinearRegression\n",
        "from sklearn.metrics import mean_squared_error\n",
        "\n",
        "X = np.array([[1], [2], [3], [4], [5]])\n",
        "y = np.array([2, 4, 6, 8, 10])\n",
        "\n",
        "model = LinearRegression()\n",
        "model.fit(X, y)\n",
        "\n",
        "y_pred = model.predict(X)\n",
        "\n",
        "mse = mean_squared_error(y, y_pred)\n",
        "\n",
        "slope = model.coef_[0]\n",
        "intercept = model.intercept_\n",
        "\n",
        "print(f\"Learned equation: y = {slope:.4f}x + {intercept:.4f}\")\n",
        "print(f\"RMSE: {rmse:.4f}\")\n",
        "\n",
        "plt.scatter(X, y, color='blue', label='Actual points')\n",
        "plt.plot(X, y_pred, color='red', label='Predicted line')\n",
        "plt.title(\"Linear Regression using scikit-learn\")\n",
        "plt.xlabel(\"X\")\n",
        "plt.ylabel(\"y\")\n",
        "plt.legend()\n",
        "plt.grid(True)\n",
        "plt.show()\n"
      ],
      "metadata": {
        "colab": {
          "base_uri": "https://localhost:8080/",
          "height": 508
        },
        "id": "pHbXzVHDHzqS",
        "outputId": "7d3baebb-aba7-4ea7-b945-c62b3d6a27f9"
      },
      "execution_count": 88,
      "outputs": [
        {
          "output_type": "stream",
          "name": "stdout",
          "text": [
            "Learned equation: y = 2.0000x + 0.0000\n",
            "RMSE: 0.0000\n"
          ]
        },
        {
          "output_type": "display_data",
          "data": {
            "text/plain": [
              "<Figure size 640x480 with 1 Axes>"
            ],
            "image/png": "[encoded data removed]"
          },
          "metadata": {}
        }
      ]
    },
    {
      "cell_type": "code",
      "source": [],
      "metadata": {
        "id": "jjL1mSTUNG3y"
      },
      "execution_count": null,
      "outputs": []
    }
  ]
}