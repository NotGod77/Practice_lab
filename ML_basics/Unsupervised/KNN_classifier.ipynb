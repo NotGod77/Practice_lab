{
  "nbformat": 4,
  "nbformat_minor": 0,
  "metadata": {
    "colab": {
      "provenance": []
    },
    "kernelspec": {
      "name": "python3",
      "display_name": "Python 3"
    },
    "language_info": {
      "name": "python"
    }
  },
  "cells": [
    {
      "cell_type": "code",
      "execution_count": null,
      "metadata": {
        "id": "dYgrbPzjn-PX"
      },
      "outputs": [],
      "source": [
        "'''\n",
        "A simple model that predicts the value or class of a new data point by finding the 'K' most similar data points in the training set.\n",
        "It makes a prediction based on a majority vote of those neighbors. For example, in a classification task, if the 3 nearest neighbors\n",
        "are two cats and one dog, the model predicts the new data point is a cat.\n",
        "'''\n",
        "\n",
        "# Model training and testing is same, so I won't write it all here\n",
        "\n",
        "'''\n",
        "from sklearn.neighbours import KNeighboursClassifier\n",
        "knn = KNeighboursClassifier(n_neighbours = int) -> how many nearest neighbours is the model gonna compare to\n",
        "'''"
      ]
    }
  ]
}